{
 "cells": [
  {
   "cell_type": "code",
   "execution_count": 1,
   "id": "76a0cf28",
   "metadata": {
    "_cell_guid": "b1076dfc-b9ad-4769-8c92-a6c4dae69d19",
    "_uuid": "8f2839f25d086af736a60e9eeb907d3b93b6e0e5",
    "execution": {
     "iopub.execute_input": "2022-12-27T19:38:09.508388Z",
     "iopub.status.busy": "2022-12-27T19:38:09.507921Z",
     "iopub.status.idle": "2022-12-27T19:38:10.732875Z",
     "shell.execute_reply": "2022-12-27T19:38:10.731543Z"
    },
    "papermill": {
     "duration": 1.236221,
     "end_time": "2022-12-27T19:38:10.736890",
     "exception": false,
     "start_time": "2022-12-27T19:38:09.500669",
     "status": "completed"
    },
    "tags": []
   },
   "outputs": [
    {
     "name": "stdout",
     "output_type": "stream",
     "text": [
      "/kaggle/input/diamonds/diamonds.csv\n"
     ]
    }
   ],
   "source": [
    "# This Python 3 environment comes with many helpful analytics libraries installed\n",
    "# It is defined by the kaggle/python Docker image: https://github.com/kaggle/docker-python\n",
    "# For example, here's several helpful packages to load\n",
    "\n",
    "# Data handling\n",
    "import numpy as np # linear algebra\n",
    "import pandas as pd # data processing, CSV file I/O (e.g. pd.read_csv)\n",
    "\n",
    "# Data visualization\n",
    "import matplotlib.pyplot as plt \n",
    "import seaborn as sns\n",
    "\n",
    "# Input data files are available in the read-only \"../input/\" directory\n",
    "# For example, running this (by clicking run or pressing Shift+Enter) will list all files under the input directory\n",
    "\n",
    "import os\n",
    "for dirname, _, filenames in os.walk('/kaggle/input'):\n",
    "    for filename in filenames:\n",
    "        print(os.path.join(dirname, filename))\n",
    "\n",
    "# You can write up to 20GB to the current directory (/kaggle/working/) that gets preserved as output when you create a version using \"Save & Run All\" \n",
    "# You can also write temporary files to /kaggle/temp/, but they won't be saved outside of the current session"
   ]
  },
  {
   "cell_type": "code",
   "execution_count": 2,
   "id": "1289425a",
   "metadata": {
    "execution": {
     "iopub.execute_input": "2022-12-27T19:38:10.747465Z",
     "iopub.status.busy": "2022-12-27T19:38:10.747028Z",
     "iopub.status.idle": "2022-12-27T19:38:10.890040Z",
     "shell.execute_reply": "2022-12-27T19:38:10.888589Z"
    },
    "papermill": {
     "duration": 0.15156,
     "end_time": "2022-12-27T19:38:10.893010",
     "exception": false,
     "start_time": "2022-12-27T19:38:10.741450",
     "status": "completed"
    },
    "tags": []
   },
   "outputs": [],
   "source": [
    "# Let's import the data\n",
    "df_data = pd.read_csv(\"../input/diamonds/diamonds.csv\", index_col=0)"
   ]
  },
  {
   "cell_type": "code",
   "execution_count": 3,
   "id": "c4d1ae45",
   "metadata": {
    "execution": {
     "iopub.execute_input": "2022-12-27T19:38:10.903528Z",
     "iopub.status.busy": "2022-12-27T19:38:10.903074Z",
     "iopub.status.idle": "2022-12-27T19:38:10.942610Z",
     "shell.execute_reply": "2022-12-27T19:38:10.940631Z"
    },
    "papermill": {
     "duration": 0.047872,
     "end_time": "2022-12-27T19:38:10.945413",
     "exception": false,
     "start_time": "2022-12-27T19:38:10.897541",
     "status": "completed"
    },
    "tags": []
   },
   "outputs": [
    {
     "name": "stdout",
     "output_type": "stream",
     "text": [
      "   carat      cut color clarity  depth  table  price     x     y     z\n",
      "1   0.23    Ideal     E     SI2   61.5   55.0    326  3.95  3.98  2.43\n",
      "2   0.21  Premium     E     SI1   59.8   61.0    326  3.89  3.84  2.31\n",
      "3   0.23     Good     E     VS1   56.9   65.0    327  4.05  4.07  2.31\n",
      "4   0.29  Premium     I     VS2   62.4   58.0    334  4.20  4.23  2.63\n",
      "5   0.31     Good     J     SI2   63.3   58.0    335  4.34  4.35  2.75\n",
      "<class 'pandas.core.frame.DataFrame'>\n",
      "Int64Index: 53940 entries, 1 to 53940\n",
      "Data columns (total 10 columns):\n",
      " #   Column   Non-Null Count  Dtype  \n",
      "---  ------   --------------  -----  \n",
      " 0   carat    53940 non-null  float64\n",
      " 1   cut      53940 non-null  object \n",
      " 2   color    53940 non-null  object \n",
      " 3   clarity  53940 non-null  object \n",
      " 4   depth    53940 non-null  float64\n",
      " 5   table    53940 non-null  float64\n",
      " 6   price    53940 non-null  int64  \n",
      " 7   x        53940 non-null  float64\n",
      " 8   y        53940 non-null  float64\n",
      " 9   z        53940 non-null  float64\n",
      "dtypes: float64(6), int64(1), object(3)\n",
      "memory usage: 4.5+ MB\n",
      "None\n"
     ]
    }
   ],
   "source": [
    "# Quick look at the data\n",
    "print(df_data.head()) # First look at the data\n",
    "print(df_data.info()) # Type of variables?, null values?"
   ]
  },
  {
   "cell_type": "markdown",
   "id": "ce74c904",
   "metadata": {
    "papermill": {
     "duration": 0.004065,
     "end_time": "2022-12-27T19:38:10.954056",
     "exception": false,
     "start_time": "2022-12-27T19:38:10.949991",
     "status": "completed"
    },
    "tags": []
   },
   "source": [
    "## Analysis\n",
    "### There are no null values and the categorical varialbes are represented as an \"object\" dtype"
   ]
  },
  {
   "cell_type": "code",
   "execution_count": 4,
   "id": "41a35b5a",
   "metadata": {
    "execution": {
     "iopub.execute_input": "2022-12-27T19:38:10.965601Z",
     "iopub.status.busy": "2022-12-27T19:38:10.965159Z",
     "iopub.status.idle": "2022-12-27T19:38:11.001730Z",
     "shell.execute_reply": "2022-12-27T19:38:11.000175Z"
    },
    "papermill": {
     "duration": 0.046756,
     "end_time": "2022-12-27T19:38:11.005220",
     "exception": false,
     "start_time": "2022-12-27T19:38:10.958464",
     "status": "completed"
    },
    "tags": []
   },
   "outputs": [
    {
     "name": "stdout",
     "output_type": "stream",
     "text": [
      "<class 'pandas.core.frame.DataFrame'>\n",
      "Int64Index: 53940 entries, 1 to 53940\n",
      "Data columns (total 10 columns):\n",
      " #   Column   Non-Null Count  Dtype   \n",
      "---  ------   --------------  -----   \n",
      " 0   carat    53940 non-null  float64 \n",
      " 1   cut      53940 non-null  category\n",
      " 2   color    53940 non-null  category\n",
      " 3   clarity  53940 non-null  category\n",
      " 4   depth    53940 non-null  float64 \n",
      " 5   table    53940 non-null  float64 \n",
      " 6   price    53940 non-null  int64   \n",
      " 7   x        53940 non-null  float64 \n",
      " 8   y        53940 non-null  float64 \n",
      " 9   z        53940 non-null  float64 \n",
      "dtypes: category(3), float64(6), int64(1)\n",
      "memory usage: 3.4 MB\n"
     ]
    }
   ],
   "source": [
    "def convert_to_categorical(df):\n",
    "    \"\"\"Convert object dtype to category dtype\"\"\"\n",
    "    dtypes = df.dtypes\n",
    "    var_names = dtypes.index\n",
    "    \n",
    "    cat_vars = []\n",
    "    for idx, type_ in enumerate(dtypes): # type_: to avoid clash with Python's type fn\n",
    "        if type_ != \"object\":\n",
    "            continue\n",
    "        column_name = var_names[idx]\n",
    "        cat_vars.append(column_name)\n",
    "        df[column_name] = df[column_name].astype('category')\n",
    "    return df, cat_vars\n",
    "\n",
    "# Categorical variables as categorical Dtype\n",
    "df_data, cat_vars = convert_to_categorical(df_data)\n",
    "df_data.info()"
   ]
  },
  {
   "cell_type": "code",
   "execution_count": 5,
   "id": "37dd25ae",
   "metadata": {
    "execution": {
     "iopub.execute_input": "2022-12-27T19:38:11.016391Z",
     "iopub.status.busy": "2022-12-27T19:38:11.015964Z",
     "iopub.status.idle": "2022-12-27T19:38:11.075288Z",
     "shell.execute_reply": "2022-12-27T19:38:11.074127Z"
    },
    "papermill": {
     "duration": 0.067525,
     "end_time": "2022-12-27T19:38:11.077794",
     "exception": false,
     "start_time": "2022-12-27T19:38:11.010269",
     "status": "completed"
    },
    "tags": []
   },
   "outputs": [
    {
     "data": {
      "text/html": [
       "<div>\n",
       "<style scoped>\n",
       "    .dataframe tbody tr th:only-of-type {\n",
       "        vertical-align: middle;\n",
       "    }\n",
       "\n",
       "    .dataframe tbody tr th {\n",
       "        vertical-align: top;\n",
       "    }\n",
       "\n",
       "    .dataframe thead th {\n",
       "        text-align: right;\n",
       "    }\n",
       "</style>\n",
       "<table border=\"1\" class=\"dataframe\">\n",
       "  <thead>\n",
       "    <tr style=\"text-align: right;\">\n",
       "      <th></th>\n",
       "      <th>carat</th>\n",
       "      <th>depth</th>\n",
       "      <th>table</th>\n",
       "      <th>price</th>\n",
       "      <th>x</th>\n",
       "      <th>y</th>\n",
       "      <th>z</th>\n",
       "    </tr>\n",
       "  </thead>\n",
       "  <tbody>\n",
       "    <tr>\n",
       "      <th>count</th>\n",
       "      <td>53940.000000</td>\n",
       "      <td>53940.000000</td>\n",
       "      <td>53940.000000</td>\n",
       "      <td>53940.000000</td>\n",
       "      <td>53940.000000</td>\n",
       "      <td>53940.000000</td>\n",
       "      <td>53940.000000</td>\n",
       "    </tr>\n",
       "    <tr>\n",
       "      <th>mean</th>\n",
       "      <td>0.797940</td>\n",
       "      <td>61.749405</td>\n",
       "      <td>57.457184</td>\n",
       "      <td>3932.799722</td>\n",
       "      <td>5.731157</td>\n",
       "      <td>5.734526</td>\n",
       "      <td>3.538734</td>\n",
       "    </tr>\n",
       "    <tr>\n",
       "      <th>std</th>\n",
       "      <td>0.474011</td>\n",
       "      <td>1.432621</td>\n",
       "      <td>2.234491</td>\n",
       "      <td>3989.439738</td>\n",
       "      <td>1.121761</td>\n",
       "      <td>1.142135</td>\n",
       "      <td>0.705699</td>\n",
       "    </tr>\n",
       "    <tr>\n",
       "      <th>min</th>\n",
       "      <td>0.200000</td>\n",
       "      <td>43.000000</td>\n",
       "      <td>43.000000</td>\n",
       "      <td>326.000000</td>\n",
       "      <td>0.000000</td>\n",
       "      <td>0.000000</td>\n",
       "      <td>0.000000</td>\n",
       "    </tr>\n",
       "    <tr>\n",
       "      <th>25%</th>\n",
       "      <td>0.400000</td>\n",
       "      <td>61.000000</td>\n",
       "      <td>56.000000</td>\n",
       "      <td>950.000000</td>\n",
       "      <td>4.710000</td>\n",
       "      <td>4.720000</td>\n",
       "      <td>2.910000</td>\n",
       "    </tr>\n",
       "    <tr>\n",
       "      <th>50%</th>\n",
       "      <td>0.700000</td>\n",
       "      <td>61.800000</td>\n",
       "      <td>57.000000</td>\n",
       "      <td>2401.000000</td>\n",
       "      <td>5.700000</td>\n",
       "      <td>5.710000</td>\n",
       "      <td>3.530000</td>\n",
       "    </tr>\n",
       "    <tr>\n",
       "      <th>75%</th>\n",
       "      <td>1.040000</td>\n",
       "      <td>62.500000</td>\n",
       "      <td>59.000000</td>\n",
       "      <td>5324.250000</td>\n",
       "      <td>6.540000</td>\n",
       "      <td>6.540000</td>\n",
       "      <td>4.040000</td>\n",
       "    </tr>\n",
       "    <tr>\n",
       "      <th>max</th>\n",
       "      <td>5.010000</td>\n",
       "      <td>79.000000</td>\n",
       "      <td>95.000000</td>\n",
       "      <td>18823.000000</td>\n",
       "      <td>10.740000</td>\n",
       "      <td>58.900000</td>\n",
       "      <td>31.800000</td>\n",
       "    </tr>\n",
       "  </tbody>\n",
       "</table>\n",
       "</div>"
      ],
      "text/plain": [
       "              carat         depth         table         price             x  \\\n",
       "count  53940.000000  53940.000000  53940.000000  53940.000000  53940.000000   \n",
       "mean       0.797940     61.749405     57.457184   3932.799722      5.731157   \n",
       "std        0.474011      1.432621      2.234491   3989.439738      1.121761   \n",
       "min        0.200000     43.000000     43.000000    326.000000      0.000000   \n",
       "25%        0.400000     61.000000     56.000000    950.000000      4.710000   \n",
       "50%        0.700000     61.800000     57.000000   2401.000000      5.700000   \n",
       "75%        1.040000     62.500000     59.000000   5324.250000      6.540000   \n",
       "max        5.010000     79.000000     95.000000  18823.000000     10.740000   \n",
       "\n",
       "                  y             z  \n",
       "count  53940.000000  53940.000000  \n",
       "mean       5.734526      3.538734  \n",
       "std        1.142135      0.705699  \n",
       "min        0.000000      0.000000  \n",
       "25%        4.720000      2.910000  \n",
       "50%        5.710000      3.530000  \n",
       "75%        6.540000      4.040000  \n",
       "max       58.900000     31.800000  "
      ]
     },
     "execution_count": 5,
     "metadata": {},
     "output_type": "execute_result"
    }
   ],
   "source": [
    "df_data.describe() # Does not include categorical variables by default"
   ]
  },
  {
   "cell_type": "markdown",
   "id": "0c56192b",
   "metadata": {
    "papermill": {
     "duration": 0.004276,
     "end_time": "2022-12-27T19:38:11.086838",
     "exception": false,
     "start_time": "2022-12-27T19:38:11.082562",
     "status": "completed"
    },
    "tags": []
   },
   "source": [
    "## Analysis\n",
    "### There variation on the price is high, and so is the catar of each diamond, is there anycorrelation here? Will be explored later"
   ]
  },
  {
   "cell_type": "code",
   "execution_count": 6,
   "id": "867ac24b",
   "metadata": {
    "execution": {
     "iopub.execute_input": "2022-12-27T19:38:11.097849Z",
     "iopub.status.busy": "2022-12-27T19:38:11.097435Z",
     "iopub.status.idle": "2022-12-27T19:38:11.118095Z",
     "shell.execute_reply": "2022-12-27T19:38:11.116854Z"
    },
    "papermill": {
     "duration": 0.029136,
     "end_time": "2022-12-27T19:38:11.120699",
     "exception": false,
     "start_time": "2022-12-27T19:38:11.091563",
     "status": "completed"
    },
    "tags": []
   },
   "outputs": [
    {
     "data": {
      "text/html": [
       "<div>\n",
       "<style scoped>\n",
       "    .dataframe tbody tr th:only-of-type {\n",
       "        vertical-align: middle;\n",
       "    }\n",
       "\n",
       "    .dataframe tbody tr th {\n",
       "        vertical-align: top;\n",
       "    }\n",
       "\n",
       "    .dataframe thead th {\n",
       "        text-align: right;\n",
       "    }\n",
       "</style>\n",
       "<table border=\"1\" class=\"dataframe\">\n",
       "  <thead>\n",
       "    <tr style=\"text-align: right;\">\n",
       "      <th></th>\n",
       "      <th>cut</th>\n",
       "      <th>color</th>\n",
       "      <th>clarity</th>\n",
       "    </tr>\n",
       "  </thead>\n",
       "  <tbody>\n",
       "    <tr>\n",
       "      <th>count</th>\n",
       "      <td>53940</td>\n",
       "      <td>53940</td>\n",
       "      <td>53940</td>\n",
       "    </tr>\n",
       "    <tr>\n",
       "      <th>unique</th>\n",
       "      <td>5</td>\n",
       "      <td>7</td>\n",
       "      <td>8</td>\n",
       "    </tr>\n",
       "    <tr>\n",
       "      <th>top</th>\n",
       "      <td>Ideal</td>\n",
       "      <td>G</td>\n",
       "      <td>SI1</td>\n",
       "    </tr>\n",
       "    <tr>\n",
       "      <th>freq</th>\n",
       "      <td>21551</td>\n",
       "      <td>11292</td>\n",
       "      <td>13065</td>\n",
       "    </tr>\n",
       "  </tbody>\n",
       "</table>\n",
       "</div>"
      ],
      "text/plain": [
       "          cut  color clarity\n",
       "count   53940  53940   53940\n",
       "unique      5      7       8\n",
       "top     Ideal      G     SI1\n",
       "freq    21551  11292   13065"
      ]
     },
     "execution_count": 6,
     "metadata": {},
     "output_type": "execute_result"
    }
   ],
   "source": [
    "df_data.describe(include=\"category\") # Only includes said dtypes"
   ]
  },
  {
   "cell_type": "code",
   "execution_count": 7,
   "id": "51d6aee1",
   "metadata": {
    "execution": {
     "iopub.execute_input": "2022-12-27T19:38:11.132693Z",
     "iopub.status.busy": "2022-12-27T19:38:11.131975Z",
     "iopub.status.idle": "2022-12-27T19:38:11.585583Z",
     "shell.execute_reply": "2022-12-27T19:38:11.584372Z"
    },
    "papermill": {
     "duration": 0.462772,
     "end_time": "2022-12-27T19:38:11.588489",
     "exception": false,
     "start_time": "2022-12-27T19:38:11.125717",
     "status": "completed"
    },
    "tags": []
   },
   "outputs": [
    {
     "data": {
      "image/png": "[encoded data removed]",
      "text/plain": [
       "<Figure size 1368x576 with 3 Axes>"
      ]
     },
     "metadata": {},
     "output_type": "display_data"
    }
   ],
   "source": [
    "# Lets visualize the data: first categorical variables\n",
    "fig, ax = plt.subplots(1, len(cat_vars), figsize=(19, 8))\n",
    "\n",
    "for idx, var in enumerate(cat_vars):\n",
    "    cat_var = df_data[var]\n",
    "    ax[idx].pie(cat_var.value_counts(), labels=cat_var.unique(), autopct='%.2f')\n",
    "\n",
    "plt.show()"
   ]
  },
  {
   "cell_type": "markdown",
   "id": "61f7a613",
   "metadata": {
    "papermill": {
     "duration": 0.005534,
     "end_time": "2022-12-27T19:38:11.599923",
     "exception": false,
     "start_time": "2022-12-27T19:38:11.594389",
     "status": "completed"
    },
    "tags": []
   },
   "source": [
    "## Analysis\n",
    "### From the pie charts it can be seen that there is not a category on each categorical variable that takes more than 40% of the total data, this means that the data is well distributed among all categories, and all categories would add information to a regression model."
   ]
  },
  {
   "cell_type": "code",
   "execution_count": 8,
   "id": "b7dc15c3",
   "metadata": {
    "execution": {
     "iopub.execute_input": "2022-12-27T19:38:11.613613Z",
     "iopub.status.busy": "2022-12-27T19:38:11.612727Z",
     "iopub.status.idle": "2022-12-27T19:38:12.752616Z",
     "shell.execute_reply": "2022-12-27T19:38:12.751372Z"
    },
    "papermill": {
     "duration": 1.149641,
     "end_time": "2022-12-27T19:38:12.755290",
     "exception": false,
     "start_time": "2022-12-27T19:38:11.605649",
     "status": "completed"
    },
    "tags": []
   },
   "outputs": [
    {
     "data": {
      "image/png": "[encoded data removed]",
      "text/plain": [
       "<Figure size 1152x576 with 9 Axes>"
      ]
     },
     "metadata": {
      "needs_background": "light"
     },
     "output_type": "display_data"
    }
   ],
   "source": [
    "# Let's visualize the data: numerical variables\n",
    "num_vars = [var for var in df_data.columns if var not in cat_vars]\n",
    "\n",
    "ax = df_data.hist(column=num_vars, figsize=(16, 8), bins=20, layout=(3, 3))\n",
    "plt.show() # Example with beautiful formatting: https://mode.com/example-gallery/python_histogram/"
   ]
  },
  {
   "cell_type": "markdown",
   "id": "e7e8cb77",
   "metadata": {
    "papermill": {
     "duration": 0.007009,
     "end_time": "2022-12-27T19:38:12.768994",
     "exception": false,
     "start_time": "2022-12-27T19:38:12.761985",
     "status": "completed"
    },
    "tags": []
   },
   "source": [
    "## Analysis\n",
    "### It can be seen that both carat and price have a right skewed distribution. Again, is there any relation between these two variables? One would think there is, the higher the carat the more expensive the diamont, but this will be explored later. It can be seen that both depth and table are nomally distributed, and for the other variables (dimensions of diamond) their distributions don't give much information other than: y and z move in a short range."
   ]
  },
  {
   "cell_type": "code",
   "execution_count": 9,
   "id": "57eb2c97",
   "metadata": {
    "execution": {
     "iopub.execute_input": "2022-12-27T19:38:12.784648Z",
     "iopub.status.busy": "2022-12-27T19:38:12.783943Z",
     "iopub.status.idle": "2022-12-27T19:38:13.161851Z",
     "shell.execute_reply": "2022-12-27T19:38:13.160367Z"
    },
    "papermill": {
     "duration": 0.389123,
     "end_time": "2022-12-27T19:38:13.164646",
     "exception": false,
     "start_time": "2022-12-27T19:38:12.775523",
     "status": "completed"
    },
    "tags": []
   },
   "outputs": [
    {
     "data": {
      "image/png": "[encoded data removed]",
      "text/plain": [
       "<Figure size 576x864 with 3 Axes>"
      ]
     },
     "metadata": {
      "needs_background": "light"
     },
     "output_type": "display_data"
    }
   ],
   "source": [
    "# Let's explore with the help of a box plot y and z\n",
    "fig, ax = plt.subplots(3, 1, figsize=(8, 12))\n",
    "ax[0].boxplot(df_data[[\"y\", \"z\"]])\n",
    "\n",
    "# There are three outliers that don't allow the boxplot to be seen\n",
    "\n",
    "# With Seaborn's boxplot it is easy to ignore outliers on the plot\n",
    "sns.boxplot(data=df_data, x=\"y\", showfliers=False, ax=ax[1])\n",
    "sns.boxplot(data=df_data, x=\"z\", showfliers=False, ax=ax[2])\n",
    "plt.show()"
   ]
  },
  {
   "cell_type": "markdown",
   "id": "6aa660db",
   "metadata": {
    "papermill": {
     "duration": 0.00809,
     "end_time": "2022-12-27T19:38:13.179723",
     "exception": false,
     "start_time": "2022-12-27T19:38:13.171633",
     "status": "completed"
    },
    "tags": []
   },
   "source": [
    "## Analysis\n",
    "### As it was seen in the distribution plots, both y and z move in a short range. This could be due to the fact that people like their diamonds with a certain geometry, and such geometry doesn't vary much on the y and z axis."
   ]
  },
  {
   "cell_type": "code",
   "execution_count": 10,
   "id": "af2e6463",
   "metadata": {
    "execution": {
     "iopub.execute_input": "2022-12-27T19:38:13.195912Z",
     "iopub.status.busy": "2022-12-27T19:38:13.195445Z",
     "iopub.status.idle": "2022-12-27T19:38:13.201613Z",
     "shell.execute_reply": "2022-12-27T19:38:13.199650Z"
    },
    "papermill": {
     "duration": 0.017944,
     "end_time": "2022-12-27T19:38:13.204712",
     "exception": false,
     "start_time": "2022-12-27T19:38:13.186768",
     "status": "completed"
    },
    "tags": []
   },
   "outputs": [],
   "source": [
    "# Let's explore the relation each numerical variable has with each other\n",
    "\n",
    "\n"
   ]
  }
 ],
 "metadata": {
  "kernelspec": {
   "display_name": "Python 3",
   "language": "python",
   "name": "python3"
  },
  "language_info": {
   "codemirror_mode": {
    "name": "ipython",
    "version": 3
   },
   "file_extension": ".py",
   "mimetype": "text/x-python",
   "name": "python",
   "nbconvert_exporter": "python",
   "pygments_lexer": "ipython3",
   "version": "3.7.12"
  },
  "papermill": {
   "default_parameters": {},
   "duration": 16.735634,
   "end_time": "2022-12-27T19:38:14.035669",
   "environment_variables": {},
   "exception": null,
   "input_path": "__notebook__.ipynb",
   "output_path": "__notebook__.ipynb",
   "parameters": {},
   "start_time": "2022-12-27T19:37:57.300035",
   "version": "2.3.4"
  }
 },
 "nbformat": 4,
 "nbformat_minor": 5
}
